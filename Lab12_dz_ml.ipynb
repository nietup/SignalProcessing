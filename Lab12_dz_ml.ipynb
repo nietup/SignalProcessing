{
 "cells": [
  {
   "cell_type": "code",
   "execution_count": 49,
   "metadata": {},
   "outputs": [
    {
     "name": "stdout",
     "output_type": "stream",
     "text": [
      "Populating the interactive namespace from numpy and matplotlib\n"
     ]
    },
    {
     "name": "stderr",
     "output_type": "stream",
     "text": [
      "/usr/local/lib/python3.4/dist-packages/IPython/core/magics/pylab.py:160: UserWarning: pylab import has clobbered these variables: ['f', 'mat']\n",
      "`%matplotlib` prevents importing * from pylab and numpy\n",
      "  \"\\n`%matplotlib` prevents importing * from pylab and numpy\"\n"
     ]
    }
   ],
   "source": [
    "%pylab inline"
   ]
  },
  {
   "cell_type": "code",
   "execution_count": 50,
   "metadata": {},
   "outputs": [],
   "source": [
    "import sklearn.datasets\n",
    "import sklearn.linear_model\n",
    "import sklearn.model_selection\n",
    "import sklearn.metrics\n",
    "import sklearn.multiclass\n",
    "import sklearn.preprocessing\n",
    "\n",
    "# style.use(\"dark_background\")"
   ]
  },
  {
   "cell_type": "markdown",
   "metadata": {},
   "source": [
    "# Maszynowe Uczenie\n",
    "\n",
    "Powyżej wczytano najistotniejsze moduły biblioteki *scikit-learn* używanej do maszynowego uczenia w Pythonie. Całe API można znaleźć tutaj:\n",
    "\n",
    "http://scikit-learn.org/stable/modules/classes.html\n",
    "\n",
    "Poza tym, warto też zaglądać do:\n",
    "\n",
    "http://scikit-learn.org/stable/user_guide.html\n",
    "\n",
    "Na początku, wczytaj i przejrzyj bazę cyfr wczytywaną metodą *sklearn.datasets.load_digits()*:"
   ]
  },
  {
   "cell_type": "code",
   "execution_count": 51,
   "metadata": {},
   "outputs": [
    {
     "data": {
      "text/plain": [
       "{'DESCR': \"Optical Recognition of Handwritten Digits Data Set\\n===================================================\\n\\nNotes\\n-----\\nData Set Characteristics:\\n    :Number of Instances: 5620\\n    :Number of Attributes: 64\\n    :Attribute Information: 8x8 image of integer pixels in the range 0..16.\\n    :Missing Attribute Values: None\\n    :Creator: E. Alpaydin (alpaydin '@' boun.edu.tr)\\n    :Date: July; 1998\\n\\nThis is a copy of the test set of the UCI ML hand-written digits datasets\\nhttp://archive.ics.uci.edu/ml/datasets/Optical+Recognition+of+Handwritten+Digits\\n\\nThe data set contains images of hand-written digits: 10 classes where\\neach class refers to a digit.\\n\\nPreprocessing programs made available by NIST were used to extract\\nnormalized bitmaps of handwritten digits from a preprinted form. From a\\ntotal of 43 people, 30 contributed to the training set and different 13\\nto the test set. 32x32 bitmaps are divided into nonoverlapping blocks of\\n4x4 and the number of on pixels are counted in each block. This generates\\nan input matrix of 8x8 where each element is an integer in the range\\n0..16. This reduces dimensionality and gives invariance to small\\ndistortions.\\n\\nFor info on NIST preprocessing routines, see M. D. Garris, J. L. Blue, G.\\nT. Candela, D. L. Dimmick, J. Geist, P. J. Grother, S. A. Janet, and C.\\nL. Wilson, NIST Form-Based Handprint Recognition System, NISTIR 5469,\\n1994.\\n\\nReferences\\n----------\\n  - C. Kaynak (1995) Methods of Combining Multiple Classifiers and Their\\n    Applications to Handwritten Digit Recognition, MSc Thesis, Institute of\\n    Graduate Studies in Science and Engineering, Bogazici University.\\n  - E. Alpaydin, C. Kaynak (1998) Cascading Classifiers, Kybernetika.\\n  - Ken Tang and Ponnuthurai N. Suganthan and Xi Yao and A. Kai Qin.\\n    Linear dimensionalityreduction using relevance weighted LDA. School of\\n    Electrical and Electronic Engineering Nanyang Technological University.\\n    2005.\\n  - Claudio Gentile. A New Approximate Maximal Margin Classification\\n    Algorithm. NIPS. 2000.\\n\",\n",
       " 'data': array([[  0.,   0.,   5., ...,   0.,   0.,   0.],\n",
       "        [  0.,   0.,   0., ...,  10.,   0.,   0.],\n",
       "        [  0.,   0.,   0., ...,  16.,   9.,   0.],\n",
       "        ..., \n",
       "        [  0.,   0.,   1., ...,   6.,   0.,   0.],\n",
       "        [  0.,   0.,   2., ...,  12.,   0.,   0.],\n",
       "        [  0.,   0.,  10., ...,  12.,   1.,   0.]]),\n",
       " 'images': array([[[  0.,   0.,   5., ...,   1.,   0.,   0.],\n",
       "         [  0.,   0.,  13., ...,  15.,   5.,   0.],\n",
       "         [  0.,   3.,  15., ...,  11.,   8.,   0.],\n",
       "         ..., \n",
       "         [  0.,   4.,  11., ...,  12.,   7.,   0.],\n",
       "         [  0.,   2.,  14., ...,  12.,   0.,   0.],\n",
       "         [  0.,   0.,   6., ...,   0.,   0.,   0.]],\n",
       " \n",
       "        [[  0.,   0.,   0., ...,   5.,   0.,   0.],\n",
       "         [  0.,   0.,   0., ...,   9.,   0.,   0.],\n",
       "         [  0.,   0.,   3., ...,   6.,   0.,   0.],\n",
       "         ..., \n",
       "         [  0.,   0.,   1., ...,   6.,   0.,   0.],\n",
       "         [  0.,   0.,   1., ...,   6.,   0.,   0.],\n",
       "         [  0.,   0.,   0., ...,  10.,   0.,   0.]],\n",
       " \n",
       "        [[  0.,   0.,   0., ...,  12.,   0.,   0.],\n",
       "         [  0.,   0.,   3., ...,  14.,   0.,   0.],\n",
       "         [  0.,   0.,   8., ...,  16.,   0.,   0.],\n",
       "         ..., \n",
       "         [  0.,   9.,  16., ...,   0.,   0.,   0.],\n",
       "         [  0.,   3.,  13., ...,  11.,   5.,   0.],\n",
       "         [  0.,   0.,   0., ...,  16.,   9.,   0.]],\n",
       " \n",
       "        ..., \n",
       "        [[  0.,   0.,   1., ...,   1.,   0.,   0.],\n",
       "         [  0.,   0.,  13., ...,   2.,   1.,   0.],\n",
       "         [  0.,   0.,  16., ...,  16.,   5.,   0.],\n",
       "         ..., \n",
       "         [  0.,   0.,  16., ...,  15.,   0.,   0.],\n",
       "         [  0.,   0.,  15., ...,  16.,   0.,   0.],\n",
       "         [  0.,   0.,   2., ...,   6.,   0.,   0.]],\n",
       " \n",
       "        [[  0.,   0.,   2., ...,   0.,   0.,   0.],\n",
       "         [  0.,   0.,  14., ...,  15.,   1.,   0.],\n",
       "         [  0.,   4.,  16., ...,  16.,   7.,   0.],\n",
       "         ..., \n",
       "         [  0.,   0.,   0., ...,  16.,   2.,   0.],\n",
       "         [  0.,   0.,   4., ...,  16.,   2.,   0.],\n",
       "         [  0.,   0.,   5., ...,  12.,   0.,   0.]],\n",
       " \n",
       "        [[  0.,   0.,  10., ...,   1.,   0.,   0.],\n",
       "         [  0.,   2.,  16., ...,   1.,   0.,   0.],\n",
       "         [  0.,   0.,  15., ...,  15.,   0.,   0.],\n",
       "         ..., \n",
       "         [  0.,   4.,  16., ...,  16.,   6.,   0.],\n",
       "         [  0.,   8.,  16., ...,  16.,   8.,   0.],\n",
       "         [  0.,   1.,   8., ...,  12.,   1.,   0.]]]),\n",
       " 'target': array([0, 1, 2, ..., 8, 9, 8]),\n",
       " 'target_names': array([0, 1, 2, 3, 4, 5, 6, 7, 8, 9])}"
      ]
     },
     "execution_count": 51,
     "metadata": {},
     "output_type": "execute_result"
    }
   ],
   "source": [
    "digits = sklearn.datasets.load_digits()\n",
    "digits"
   ]
  },
  {
   "cell_type": "markdown",
   "metadata": {},
   "source": [
    "Wczytaj bazę ponownie ustawiając argument *return_X_y* na *True*:"
   ]
  },
  {
   "cell_type": "code",
   "execution_count": 52,
   "metadata": {},
   "outputs": [],
   "source": [
    "X, y = sklearn.datasets.load_digits(return_X_y = True)\n"
   ]
  },
  {
   "cell_type": "markdown",
   "metadata": {},
   "source": [
    "Narysuj kilka przykładowych obrazków z bazy:"
   ]
  },
  {
   "cell_type": "code",
   "execution_count": 53,
   "metadata": {},
   "outputs": [
    {
     "data": {
      "image/png": "[encoded data removed]",
      "text/plain": [
       "<matplotlib.figure.Figure at 0x7f53a4b70d68>"
      ]
     },
     "metadata": {},
     "output_type": "display_data"
    }
   ],
   "source": [
    "figure(figsize=(15,15))\n",
    "\n",
    "for i in range(25):\n",
    "    subplot(5, 5, i + 1)\n",
    "    idx = random.randint(0, X.shape[0])\n",
    "    imshow(X[idx].reshape(8, 8), cmap=cm.gray)\n",
    "    _ = axis('off')\n",
    "    _ = title(y[idx])"
   ]
  },
  {
   "cell_type": "markdown",
   "metadata": {},
   "source": [
    "## Podział danych na testowe i treningowe\n",
    "\n",
    "Można to łatwo osiągnąć używając metody *sklearn.model_selection.train_test_split()*. Argument *test_size* pozwala na ustalenie procentu danych jakie mają tworzyć w dane testowe.\n",
    "\n",
    "Podziel losowo zbiór na dane treningowe (90%) i testowe (10%) i narysuj histogram klas w danych testowych:"
   ]
  },
  {
   "cell_type": "code",
   "execution_count": 54,
   "metadata": {},
   "outputs": [
    {
     "data": {
      "image/png": "[encoded data removed]",
      "text/plain": [
       "<matplotlib.figure.Figure at 0x7f53a4e257f0>"
      ]
     },
     "metadata": {},
     "output_type": "display_data"
    }
   ],
   "source": [
    "X_tr, X_tst, y_tr, y_tst = sklearn.model_selection.train_test_split(X, y, test_size=0.1)\n",
    "\n",
    "_ = hist(y_tst)"
   ]
  },
  {
   "cell_type": "markdown",
   "metadata": {},
   "source": [
    "### Stratyfikacja\n",
    "\n",
    "Scikit-learn ma bardzo wygodne klasy umożliwiające na stratyfikację podziału danych, czyli zapewnienie że ilość klas będzie równomierna. Użyj klasy *sklearn.model_selection.StratifiedShuffleSplit* żeby podzielić dane tak jak wyżej. Klasa ta może wygenerować kilka podziałów, ale dla naszej potrzeby wystarczy ustawić *n_splits* na 1. To co zwraca metoda *split* tej klasy jest generatorem (specjalna rodzaj Pythonowego objektu nadająca się do użycia w pętlach), ale można użyć metdoty *next* żeby wyciągnąć pierwszy (i jedyny) element tego generatora.\n",
    "\n",
    "Wygeneruj stratyfikowany podział danych jak wyżej i wylicz histogram klas testowych:"
   ]
  },
  {
   "cell_type": "code",
   "execution_count": 55,
   "metadata": {},
   "outputs": [
    {
     "data": {
      "image/png": "[encoded data removed]",
      "text/plain": [
       "<matplotlib.figure.Figure at 0x7f53a4b9a320>"
      ]
     },
     "metadata": {},
     "output_type": "display_data"
    }
   ],
   "source": [
    "sss = sklearn.model_selection.StratifiedShuffleSplit(test_size=0.1)\n",
    "tr_idx, tst_idx = next(sss.split(X, y))\n",
    "\n",
    "X_tr = X[tr_idx]\n",
    "y_tr = y[tr_idx]\n",
    "\n",
    "X_tst = X[tst_idx]\n",
    "y_tst = y[tst_idx]\n",
    "\n",
    "_ = hist(y_tst)"
   ]
  },
  {
   "cell_type": "markdown",
   "metadata": {},
   "source": [
    "## Klasyfikacja\n",
    "\n",
    "Użyjemy tutaj bardzo prostego modelu liniowego o nazwie \"regresja logistyczna\". Klasa *sklearn.linear_model.LogisticRegression* ma wiele parametrów, ale możemy je na razie zostawić domyślne.\n",
    "\n",
    "Użyj metody *fit* podając do niej dane treningowe, a potem metodę *predict* podając dane testowe:"
   ]
  },
  {
   "cell_type": "code",
   "execution_count": 56,
   "metadata": {},
   "outputs": [
    {
     "data": {
      "text/plain": [
       "array([ 0,  0,  0,  0,  0,  0,  0,  0,  0,  0,  0,  0,  0,  0,  0,  0,  0,\n",
       "        0,  0,  0,  0,  0,  0,  0,  0,  0,  0,  0,  0,  0,  4,  0,  0,  0,\n",
       "        0,  7,  0,  0,  0,  0,  0,  0,  0,  0,  0,  0,  0,  0,  0,  0,  0,\n",
       "        0,  0,  0,  0,  0,  0,  0,  0,  0,  0,  0,  0, -4,  0,  0,  0,  0,\n",
       "        0,  0,  0,  0,  0,  0,  0,  0,  0,  0,  0, -6,  0,  0,  0,  0,  0,\n",
       "        0,  0,  0,  0,  0,  0,  0,  0,  0,  0,  0,  0,  0,  0,  0,  0,  0,\n",
       "        0,  0,  0,  0,  0,  0,  0,  0,  0,  0,  0, -1,  0,  0,  0,  0,  0,\n",
       "        0,  0,  0,  0,  0,  0,  0,  0,  0,  0,  0,  0,  0,  0,  0,  0,  0,\n",
       "        0,  0,  0,  0,  0,  0,  0,  0, -2,  0,  0,  0,  0,  0,  0,  0,  0,\n",
       "        0,  0,  0,  0,  0,  0,  0,  0,  0,  0,  0,  0,  0,  0,  0,  0,  0,\n",
       "        0,  0,  0,  0,  0,  0,  0,  0,  3,  0])"
      ]
     },
     "execution_count": 56,
     "metadata": {},
     "output_type": "execute_result"
    }
   ],
   "source": [
    "model = sklearn.linear_model.LogisticRegression()\n",
    "model.fit(X_tr, y_tr)\n",
    "\n",
    "h_tst = model.predict(X_tst)\n",
    "h_tst - y_tst"
   ]
  },
  {
   "cell_type": "markdown",
   "metadata": {},
   "source": [
    "### Ewaluacja\n",
    "\n",
    "Moduł *sklearn.metrics* zawiera mnóstwo metod ewaluacji danych, ale trzeba dobrze rozumieć co one oznaczają. Niektóre z nich można policzyć tylko dla niektórych metod klasyfikacji, wiec warto pocztać dokumentację i dobrze sprawdzić wyjątki jak coś pójdzie nie tak.\n",
    "\n",
    "Najprostszą (i z pewnością działającą dla największej liczby przypadków) miarą jest *sklearn.metrics.accuracy_score*. Policz ją dla uzyskanego wyżej wyniku.\n",
    "\n",
    "Możesz też policzć miary typu precision/recall/F1, ale one działają tylko dla problemów binarnych. Można ją jednak zastosować dla naszego problemu rozważająć każdą klasę osobno i uśredniając wynik. Do tego należy użyć parametru *average* i podać do niego wartości *micro*, *macro* lub *weighted*."
   ]
  },
  {
   "cell_type": "code",
   "execution_count": 57,
   "metadata": {},
   "outputs": [
    {
     "name": "stdout",
     "output_type": "stream",
     "text": [
      "96.11%\n",
      "96.30%\n"
     ]
    }
   ],
   "source": [
    "acc = sklearn.metrics.accuracy_score(y_tst, h_tst)\n",
    "print('{:0.2%}'.format(acc))\n",
    "\n",
    "prec = sklearn.metrics.precision_score(y_tst, h_tst, average='macro')\n",
    "print('{:0.2%}'.format(prec))"
   ]
  },
  {
   "cell_type": "markdown",
   "metadata": {},
   "source": [
    "#### Macierz konfuzji\n",
    "\n",
    "Do analizy błędów warto czasami zajrzeć do macierzy pomyłek. Wyświetl i narysuj macierz używając metody *sklearn.metrics.confusion_matrix*:"
   ]
  },
  {
   "cell_type": "code",
   "execution_count": 58,
   "metadata": {},
   "outputs": [
    {
     "name": "stdout",
     "output_type": "stream",
     "text": [
      "[[18  0  0  0  0  0  0  0  0  0]\n",
      " [ 0 17  0  0  0  0  0  0  1  0]\n",
      " [ 0  0 18  0  0  0  0  0  0  0]\n",
      " [ 0  0  1 17  0  0  0  0  0  0]\n",
      " [ 0  0  0  0 17  0  0  1  0  0]\n",
      " [ 0  0  0  0  0 17  0  0  0  1]\n",
      " [ 0  0  0  0  0  0 18  0  0  0]\n",
      " [ 0  0  0  0  0  0  0 18  0  0]\n",
      " [ 0  0  1  0  0  0  0  0 17  0]\n",
      " [ 0  0  0  0  0  1  0  1  0 16]]\n"
     ]
    },
    {
     "data": {
      "text/plain": [
       "<matplotlib.image.AxesImage at 0x7f53a4a920b8>"
      ]
     },
     "execution_count": 58,
     "metadata": {},
     "output_type": "execute_result"
    },
    {
     "data": {
      "image/png": "[encoded data removed]",
      "text/plain": [
       "<matplotlib.figure.Figure at 0x7f53f8052710>"
      ]
     },
     "metadata": {},
     "output_type": "display_data"
    }
   ],
   "source": [
    "mat = sklearn.metrics.confusion_matrix(y_tst, h_tst)\n",
    "print(mat)\n",
    "imshow(mat, cmap=cm.gray)"
   ]
  },
  {
   "cell_type": "markdown",
   "metadata": {},
   "source": [
    "## Cross validation\n",
    "\n",
    "Dla małych zbiorów danych, bardziej przecyzyjny wynik można uzyskać używając procedury walidacji krzyżowej. W scikit-learn mamy do tego metodę *sklearn.model_selection.KFold*, albo jeszcze lepiej *sklearn.model_selection.StratifiedKFold*.\n",
    "\n",
    "Stwórz obiekt tej klasy do wykonania walidacji 5-krzyżowej i w pętli for powtórz powyższy eksperyment zapisując miarę jakości dla każdego folda, a na końcu podaj jego średnią i odchylenie standardowe:"
   ]
  },
  {
   "cell_type": "code",
   "execution_count": 59,
   "metadata": {},
   "outputs": [
    {
     "name": "stdout",
     "output_type": "stream",
     "text": [
      "0.957760385076\n",
      "0.0082232783707\n"
     ]
    }
   ],
   "source": [
    "accs =[]\n",
    "\n",
    "cv = sklearn.model_selection.StratifiedKFold(n_splits=5, shuffle=True)\n",
    "for tr_idx, tst_idx in cv.split(X, y):\n",
    "    X_tr = X[tr_idx]\n",
    "    y_tr = y[tr_idx]\n",
    "\n",
    "    X_tst = X[tst_idx]\n",
    "    y_tst = y[tst_idx]\n",
    "    \n",
    "    model = sklearn.linear_model.LogisticRegression()\n",
    "    model.fit(X_tr, y_tr)\n",
    "\n",
    "    h_tst = model.predict(X_tst)\n",
    "    \n",
    "    acc = sklearn.metrics.accuracy_score(y_tst, h_tst)\n",
    "    \n",
    "    accs.append(acc)\n",
    "    \n",
    "accs = array(accs)\n",
    "\n",
    "print(accs.mean())\n",
    "print(accs.std())\n"
   ]
  },
  {
   "cell_type": "markdown",
   "metadata": {},
   "source": [
    "## Krzywa ROC\n",
    "\n",
    "Krzywę tą też można wyliczyć tylko dla problemów binarnych. Dlatego musimy użyc podobnej metody \"uśredniania\" wyników jak w przypadku precision/recall. Dodatkowo, metoda ta jest o wiele bardziej precyzyjna jeśli wynikiem jest dokładna miara prawdopodbieństwa, zamiast binarnej klasy. Umożliwia nam ona ustalenie wartości progowej zależnej od wartości prawdopodobieństwa.\n",
    "\n",
    "Wytrenuj ponownie model do regresji logistycznej (jak wyżej), ale tym razem użyj funkcji *decision_funcion* zamiast *predict* żeby otrzymać bardziej szczegółowy wynik klasyfikacji:"
   ]
  },
  {
   "cell_type": "code",
   "execution_count": 60,
   "metadata": {},
   "outputs": [],
   "source": [
    "model = sklearn.linear_model.LogisticRegression()\n",
    "model.fit(X_tr, y_tr)\n",
    "\n",
    "h_tst = model.decision_function(X_tst)"
   ]
  },
  {
   "cell_type": "markdown",
   "metadata": {},
   "source": [
    "Jeśli chcemy porównać ten wynik z etykietami refencji, musimy je najpierw zmienić do postaci binarnej. Można do tego użyć metody *sklearn.preprocessing.label_binarize*:"
   ]
  },
  {
   "cell_type": "code",
   "execution_count": 61,
   "metadata": {},
   "outputs": [],
   "source": [
    "y_tst_bin = sklearn.preprocessing.label_binarize(y_tst, classes=digits['target_names'])\n"
   ]
  },
  {
   "cell_type": "markdown",
   "metadata": {},
   "source": [
    "W tej chwili można wyliczyć krzywę ROC dla dowolnej klasy używając metodę *sklearn.metrics.roc_curve* i podając do niej wyniki dla wybranej klasy. Metoda ta zwraca trzy wartości, z których nas interesują tylko pierwsze dwie. Wartości te można podać zarówno do metody *plot*, jak i do metody *sklearn.metrics.auc* żeby wyliczyć miarę AUC danej krzywej. Narsyuj też na wykresie krzywą od (0,0) do (1,1) reprezentującą odcięcie klasyfikacji losowej:"
   ]
  },
  {
   "cell_type": "code",
   "execution_count": 64,
   "metadata": {},
   "outputs": [
    {
     "name": "stdout",
     "output_type": "stream",
     "text": [
      "0.987025426681\n"
     ]
    },
    {
     "data": {
      "image/png": "[encoded data removed]",
      "text/plain": [
       "<matplotlib.figure.Figure at 0x7f53a4af36a0>"
      ]
     },
     "metadata": {},
     "output_type": "display_data"
    }
   ],
   "source": [
    "c = 1\n",
    "f, t, _ = sklearn.metrics.roc_curve(y_tst_bin[:,c], h_tst[:,c])\n",
    "auc = sklearn.metrics.auc(f, t)\n",
    "plot(f,t)\n",
    "plot([0,1],[0,1],'k--')\n",
    "print(auc)\n",
    "xlabel(\"FPR\")\n",
    "_=ylabel(\"TPR\")"
   ]
  },
  {
   "cell_type": "markdown",
   "metadata": {},
   "source": [
    "Można też narysować uśredniony wykres dla wszystkich klas (tzw. metodą \"micro\") używając funkcji *ravel()* dla macierzy wyniku i referencji.\n",
    "\n",
    "Więcej informacji znajdziesz na stronie: http://scikit-learn.org/stable/auto_examples/model_selection/plot_roc.html"
   ]
  },
  {
   "cell_type": "code",
   "execution_count": 15,
   "metadata": {},
   "outputs": [
    {
     "name": "stdout",
     "output_type": "stream",
     "text": [
      "0.997606295047\n"
     ]
    },
    {
     "data": {
      "image/png": "[encoded data removed]",
      "text/plain": [
       "<matplotlib.figure.Figure at 0x7f53a4c73518>"
      ]
     },
     "metadata": {},
     "output_type": "display_data"
    }
   ],
   "source": [
    "c = 0\n",
    "f, t, _ = sklearn.metrics.roc_curve(y_tst_bin.ravel(), h_tst.ravel())\n",
    "auc = sklearn.metrics.auc(f, t)\n",
    "plot(f,t)\n",
    "plot([0,1],[0,1],'w--')\n",
    "print(auc)\n",
    "xlabel(\"FPR\")\n",
    "_=ylabel(\"TPR\")"
   ]
  },
  {
   "cell_type": "code",
   "execution_count": 16,
   "metadata": {},
   "outputs": [],
   "source": [
    "from sklearn.multiclass import OneVsRestClassifier, OneVsOneClassifier, OutputCodeClassifier\n",
    "from sklearn.svm import LinearSVC"
   ]
  },
  {
   "cell_type": "markdown",
   "metadata": {},
   "source": [
    "# Praca domowa\n",
    "\n",
    "Wybierz kilka (minimum 3!) różnych klasyfikatorów do problemów typu *multi-class* z tej strony: http://scikit-learn.org/stable/modules/multiclass.html - najlepiej spróbować zarówno *One-vs-all* jak i *One-vs-one* żeby zobaczyć który jest lepszy.\n",
    "\n",
    "Wylicz i porównaj ich zarówno pod względem *accuracy* wyliczonego z walidacji krzyżowej jak i krzywych ROC. Wyniki podaj zarówno w postaci listy średnych i odchylenia *accuracy* oraz AUC, jak i w postaci wykresów: liniowych dla krzywych ROC (wszystkie klasyfikatory na jednym wykresie!) oraz *boxplot* dla miar *accuracy* (też wszystkie na jednym).\n",
    "\n",
    "## Alternatywna praca domowa\n",
    "\n",
    "Wylicz wynik klasyfikacji na innym zbiorze obrazów. Może to być oryginalny MNIST, CIFAR-10 lub coś innego podobnie złożonego."
   ]
  },
  {
   "cell_type": "code",
   "execution_count": 70,
   "metadata": {
    "scrolled": false
   },
   "outputs": [
    {
     "name": "stdout",
     "output_type": "stream",
     "text": [
      "One vs all\n",
      "accuracy srednia 0.9522231558521785\n",
      "accuracy odchylenie standardowe 0.009478523648975916\n",
      "AUC 0.4942935528120713\n",
      "\n",
      "One vs one\n",
      "accuracy srednia 0.9810905015851052\n",
      "accuracy odchylenie standardowe 0.008477551282071104\n",
      "AUC 0.5020953360768176\n",
      "\n",
      "Output code classifier\n",
      "accuracy srednia 0.8781148250583215\n",
      "accuracy odchylenie standardowe 0.01613633737323819\n"
     ]
    },
    {
     "data": {
      "image/png": "[encoded data removed]",
      "text/plain": [
       "<matplotlib.figure.Figure at 0x7f53a4b17ef0>"
      ]
     },
     "metadata": {},
     "output_type": "display_data"
    },
    {
     "data": {
      "image/png": "[encoded data removed]",
      "text/plain": [
       "<matplotlib.figure.Figure at 0x7f53a4fd5128>"
      ]
     },
     "metadata": {},
     "output_type": "display_data"
    }
   ],
   "source": [
    "# Praca domowa wariant 1\n",
    "sss = sklearn.model_selection.StratifiedShuffleSplit(test_size=0.1)\n",
    "tr_idx, tst_idx = next(sss.split(X, y))\n",
    "\n",
    "X_tr = X[tr_idx]\n",
    "y_tr = y[tr_idx]\n",
    "\n",
    "X_tst = X[tst_idx]\n",
    "y_tst = y[tst_idx]\n",
    "\n",
    "y_tst_bin = sklearn.preprocessing.label_binarize(y_tst, classes=digits['target_names'])\n",
    "\n",
    "# One-vs-all\n",
    "# Accuracy z walidacji krzyzowej\n",
    "accs_ova = []\n",
    "\n",
    "cv = sklearn.model_selection.StratifiedKFold(n_splits=5, shuffle=True)\n",
    "for tr_idx, tst_idx in cv.split(X, y):\n",
    "    X_tr = X[tr_idx]\n",
    "    y_tr = y[tr_idx]\n",
    "\n",
    "    X_tst = X[tst_idx]\n",
    "    y_tst = y[tst_idx]\n",
    "    \n",
    "    model_ova = OneVsRestClassifier(LinearSVC(random_state=0))\n",
    "    model_ova.fit(X_tr, y_tr)\n",
    "    h_tst_ova = model_ova.predict(X_tst)\n",
    "    \n",
    "    acc = sklearn.metrics.accuracy_score(y_tst, h_tst_ova)\n",
    "    \n",
    "    accs_ova.append(acc)\n",
    "    \n",
    "accs_ova = array(accs_ova)\n",
    "\n",
    "# Accuracy z ROC\n",
    "sss = sklearn.model_selection.StratifiedShuffleSplit(test_size=0.1)\n",
    "tr_idx, tst_idx = next(sss.split(X, y))\n",
    "\n",
    "X_tr = X[tr_idx]\n",
    "y_tr = y[tr_idx]\n",
    "\n",
    "X_tst = X[tst_idx]\n",
    "y_tst = y[tst_idx]\n",
    "\n",
    "model_ova = OneVsRestClassifier(LinearSVC(random_state=0))\n",
    "model_ova.fit(X_tr, y_tr)\n",
    "h_tst = model_ova.decision_function(X_tst)\n",
    "\n",
    "c = 6\n",
    "f, t, _ = sklearn.metrics.roc_curve(y_tst_bin.ravel(), h_tst.ravel())\n",
    "auc_ova = sklearn.metrics.auc(f, t)\n",
    "plot(f,t)\n",
    "plot([0,1],[0,1],'w--')\n",
    "xlabel(\"FPR\")\n",
    "_=ylabel(\"TPR\")\n",
    "\n",
    "#############################################\n",
    "# One-vs-one\n",
    "# Accuracy z walidacji krzyzowej\n",
    "accs_ovo = []\n",
    "\n",
    "cv = sklearn.model_selection.StratifiedKFold(n_splits=5, shuffle=True)\n",
    "for tr_idx, tst_idx in cv.split(X, y):\n",
    "    X_tr = X[tr_idx]\n",
    "    y_tr = y[tr_idx]\n",
    "\n",
    "    X_tst = X[tst_idx]\n",
    "    y_tst = y[tst_idx]\n",
    "    \n",
    "    model_ovo = OneVsOneClassifier(LinearSVC(random_state=0))\n",
    "    model_ovo.fit(X_tr, y_tr)\n",
    "    h_tst_ovo = model_ovo.predict(X_tst)\n",
    "    \n",
    "    acc = sklearn.metrics.accuracy_score(y_tst, h_tst_ovo)\n",
    "    \n",
    "    accs_ovo.append(acc)\n",
    "    \n",
    "accs_ovo = array(accs_ovo)\n",
    "\n",
    "# Accuracy z ROC\n",
    "sss = sklearn.model_selection.StratifiedShuffleSplit(test_size=0.1)\n",
    "tr_idx, tst_idx = next(sss.split(X, y))\n",
    "\n",
    "X_tr = X[tr_idx]\n",
    "y_tr = y[tr_idx]\n",
    "\n",
    "X_tst = X[tst_idx]\n",
    "y_tst = y[tst_idx]\n",
    "\n",
    "model_ovo = OneVsOneClassifier(LinearSVC(random_state=0))\n",
    "model_ovo.fit(X_tr, y_tr)\n",
    "h_tst = model_ovo.decision_function(X_tst)\n",
    "\n",
    "f, t, _ = sklearn.metrics.roc_curve(y_tst_bin.ravel(), h_tst.ravel())\n",
    "auc_ovo = sklearn.metrics.auc(f, t)\n",
    "plot(f,t)\n",
    "plot([0,1],[0,1],'k--')\n",
    "xlabel(\"FPR\")\n",
    "_=ylabel(\"TPR\")\n",
    "\n",
    "#############################################\n",
    "# Output Code Classifier\n",
    "# Accuracy z walidacji krzyzowej\n",
    "accs_occ = []\n",
    "\n",
    "cv = sklearn.model_selection.StratifiedKFold(n_splits=5, shuffle=True)\n",
    "for tr_idx, tst_idx in cv.split(X, y):\n",
    "    X_tr = X[tr_idx]\n",
    "    y_tr = y[tr_idx]\n",
    "\n",
    "    X_tst = X[tst_idx]\n",
    "    y_tst = y[tst_idx]\n",
    "    \n",
    "    model_occ = OutputCodeClassifier(LinearSVC(random_state=0), code_size=2, random_state=0)\n",
    "    model_occ.fit(X_tr, y_tr)\n",
    "    h_tst_occ = model_occ.predict(X_tst)\n",
    "    \n",
    "    acc = sklearn.metrics.accuracy_score(y_tst, h_tst_occ)\n",
    "    \n",
    "    accs_occ.append(acc)\n",
    "    \n",
    "accs_occ = array(accs_occ)\n",
    "\n",
    "# Accuracy z ROC\n",
    "# sss = sklearn.model_selection.StratifiedShuffleSplit(test_size=0.1)\n",
    "# tr_idx, tst_idx = next(sss.split(X, y))\n",
    "\n",
    "# X_tr = X[tr_idx]\n",
    "# y_tr = y[tr_idx]\n",
    "\n",
    "# X_tst = X[tst_idx]\n",
    "# y_tst = y[tst_idx]\n",
    "\n",
    "# model_occ = OutputCodeClassifier(LinearSVC(random_state=0), code_size=2, random_state=0)\n",
    "# model_occ.fit(X_tr, y_tr)\n",
    "# h_tst = model_occ.decision_function(X_tst)\n",
    "\n",
    "# f, t, _ = sklearn.metrics.roc_curve(y_tst_bin.ravel(), h_tst.ravel())\n",
    "# auc_occ = sklearn.metrics.auc(f, t)\n",
    "# plot(f,t)\n",
    "# plot([0,1],[0,1],'w--')\n",
    "# xlabel(\"FPR\")\n",
    "# _=ylabel(\"TPR\")\n",
    "\n",
    "#############################################\n",
    "# Zestawienie\n",
    "# Lista srednich i odchylenia accuracy oraz AUC\n",
    "print(\"One vs all\")\n",
    "print(\"accuracy srednia {}\".format(accs_ova.mean()))\n",
    "print(\"accuracy odchylenie standardowe {}\".format(accs_ova.std()))\n",
    "print(\"AUC {}\".format(auc_ova))\n",
    "\n",
    "print(\"\\nOne vs one\")\n",
    "print(\"accuracy srednia {}\".format(accs_ovo.mean()))\n",
    "print(\"accuracy odchylenie standardowe {}\".format(accs_ovo.std()))\n",
    "print(\"AUC {}\".format(auc_ovo))\n",
    "\n",
    "print(\"\\nOutput code classifier\")\n",
    "print(\"accuracy srednia {}\".format(accs_occ.mean()))\n",
    "print(\"accuracy odchylenie standardowe {}\".format(accs_occ.std()))\n",
    "# print(\"AUC \" + auc_occ)\n",
    "\n",
    "# Wykresy ROC\n",
    "\n",
    "# Boxplot dla miar accuracy\n",
    "figure()\n",
    "boxplot([accs_ova, accs_ovo, accs_occ])\n",
    "_ = xlabel(\"OvA - OvO - OCC\")"
   ]
  },
  {
   "cell_type": "code",
   "execution_count": null,
   "metadata": {},
   "outputs": [],
   "source": []
  }
 ],
 "metadata": {
  "kernelspec": {
   "display_name": "Python 3",
   "language": "python",
   "name": "python3"
  },
  "language_info": {
   "codemirror_mode": {
    "name": "ipython",
    "version": 3
   },
   "file_extension": ".py",
   "mimetype": "text/x-python",
   "name": "python",
   "nbconvert_exporter": "python",
   "pygments_lexer": "ipython3",
   "version": "3.4.2"
  }
 },
 "nbformat": 4,
 "nbformat_minor": 2
}
